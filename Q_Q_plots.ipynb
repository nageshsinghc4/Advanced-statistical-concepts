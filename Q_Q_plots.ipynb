{
  "nbformat": 4,
  "nbformat_minor": 0,
  "metadata": {
    "colab": {
      "name": "Q-Q plots.ipynb",
      "provenance": [],
      "collapsed_sections": []
    },
    "kernelspec": {
      "name": "python3",
      "display_name": "Python 3"
    },
    "language_info": {
      "name": "python"
    }
  },
  "cells": [
    {
      "cell_type": "markdown",
      "metadata": {
        "id": "1UCg-ASXTE1Z"
      },
      "source": [
        "## Q-Q plots"
      ]
    },
    {
      "cell_type": "markdown",
      "metadata": {
        "id": "SJTRken6T8h3"
      },
      "source": [
        "The **Q-Q plots** are used to find the type of distribution for a random variable whether it is a Gaussian Distribution, Uniform Distribution, Exponential Distribution, or even Pareto Distribution, etc. \n",
        "\n",
        "\n",
        "You can tell the type of distribution using the power of the Q-Q plot just by looking at the plot. In general, we are talking about Normal distributions only because we have a very beautiful concept of the 68–95–99.7 rule which perfectly fits into the normal distribution So we know how much of the data lies in the range of the first standard deviation, second standard deviation and third standard deviation from the mean. So knowing if a distribution is Normal opens up new doors for us to experiment with "
      ]
    },
    {
      "cell_type": "markdown",
      "metadata": {
        "id": "bV84NvUZTTYA"
      },
      "source": [
        "Suppose we have the following dataset of 100 values:\n"
      ]
    },
    {
      "cell_type": "code",
      "metadata": {
        "colab": {
          "base_uri": "https://localhost:8080/"
        },
        "id": "jElra16NS_ZN",
        "outputId": "7c4223b3-1134-423d-80d3-d172eae53f2e"
      },
      "source": [
        "import numpy as np\n",
        "\n",
        "#create dataset with 100 values that follow a normal distribution\n",
        "np.random.seed(0)\n",
        "data = np.random.normal(0,1, 1000)\n",
        "\n",
        "#view first 10 values\n",
        "data[:10] "
      ],
      "execution_count": 1,
      "outputs": [
        {
          "output_type": "execute_result",
          "data": {
            "text/plain": [
              "array([ 1.76405235,  0.40015721,  0.97873798,  2.2408932 ,  1.86755799,\n",
              "       -0.97727788,  0.95008842, -0.15135721, -0.10321885,  0.4105985 ])"
            ]
          },
          "metadata": {},
          "execution_count": 1
        }
      ]
    },
    {
      "cell_type": "markdown",
      "metadata": {
        "id": "I8Ft__6ITglL"
      },
      "source": [
        "To create a Q-Q plot for this dataset, we can use the qqplot() function from the statsmodels library:"
      ]
    },
    {
      "cell_type": "code",
      "metadata": {
        "colab": {
          "base_uri": "https://localhost:8080/",
          "height": 333
        },
        "id": "ae_teawKTLTa",
        "outputId": "e5730832-e49b-42fb-9af5-4ddbfb070173"
      },
      "source": [
        "import statsmodels.api as sm\n",
        "import matplotlib.pyplot as plt\n",
        "\n",
        "#create Q-Q plot with 45-degree line added to plot\n",
        "fig = sm.qqplot(data, line='45')\n",
        "plt.show()"
      ],
      "execution_count": 2,
      "outputs": [
        {
          "output_type": "stream",
          "name": "stderr",
          "text": [
            "/usr/local/lib/python3.7/dist-packages/statsmodels/tools/_testing.py:19: FutureWarning: pandas.util.testing is deprecated. Use the functions in the public API at pandas.testing instead.\n",
            "  import pandas.util.testing as tm\n"
          ]
        },
        {
          "output_type": "display_data",
          "data": {
            "image/png": "[encoded data removed]",
            "text/plain": [
              "<Figure size 432x288 with 1 Axes>"
            ]
          },
          "metadata": {
            "needs_background": "light"
          }
        }
      ]
    },
    {
      "cell_type": "markdown",
      "metadata": {
        "id": "5j7EDckGTY0I"
      },
      "source": [
        "In a Q-Q plot, the x-axis displays the theoretical quantiles. This means it doesn’t show your actual data, but instead, it represents where your data would be if it were normally distributed.\n",
        "\n",
        "\n",
        "The y-axis displays your actual data. This means that if the data values fall along a roughly straight line at a 45-degree angle, then the data is normally distributed.\n",
        "\n",
        "\n",
        "We can see in our Q-Q plot above that the data values tend to closely follow the 45-degree, which means the data is likely normally distributed. This shouldn’t be surprising since we generated the 100 data values by using the numpy.random.normal() function.\n",
        "\n",
        "\n",
        "Consider instead if we generated a dataset of 100 uniformly distributed values and created a Q-Q plot for that dataset:\n",
        "\n"
      ]
    },
    {
      "cell_type": "code",
      "metadata": {
        "colab": {
          "base_uri": "https://localhost:8080/",
          "height": 279
        },
        "id": "-TJLQHQBTMSU",
        "outputId": "44608ce9-cdf9-45c6-8aa4-751554ef3060"
      },
      "source": [
        "#create dataset of 100 uniformally distributed values\n",
        "data = np.random.uniform(0,1, 1000)\n",
        "\n",
        "#generate Q-Q plot for the dataset\n",
        "fig = sm.qqplot(data, line='45')\n",
        "plt.show()"
      ],
      "execution_count": 3,
      "outputs": [
        {
          "output_type": "display_data",
          "data": {
            "image/png": "[encoded data removed]",
            "text/plain": [
              "<Figure size 432x288 with 1 Axes>"
            ]
          },
          "metadata": {
            "needs_background": "light"
          }
        }
      ]
    }
  ]
}