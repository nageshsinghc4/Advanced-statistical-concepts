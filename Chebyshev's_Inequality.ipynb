{
  "nbformat": 4,
  "nbformat_minor": 0,
  "metadata": {
    "colab": {
      "name": "Chebyshev's Inequality.ipynb",
      "provenance": [],
      "collapsed_sections": []
    },
    "kernelspec": {
      "name": "python3",
      "display_name": "Python 3"
    },
    "language_info": {
      "name": "python"
    }
  },
  "cells": [
    {
      "cell_type": "markdown",
      "metadata": {
        "id": "1UCg-ASXTE1Z"
      },
      "source": [
        "## Chebyshev's Inequality"
      ]
    },
    {
      "cell_type": "markdown",
      "metadata": {
        "id": "jrG_NaMYUsZH"
      },
      "source": [
        "In probability, **Chebyshev’s Inequality**, also known as “Bienayme-Chebyshev” Inequality guarantees that, for a wide class of probability distributions, only a definite fraction of values will be found within a specific distance from the mean of a distribution."
      ]
    },
    {
      "cell_type": "markdown",
      "metadata": {
        "id": "QyHTFOyBUx-C"
      },
      "source": [
        "Chebyshev’s inequality is similar to The Empirical rule(68-95-99.7); however, the latter rule only applies to normal distributions. Chebyshev’s inequality is broader; it can be applied to any distribution so long as the distribution includes a defined variance and mean.\n",
        "\n",
        "\n",
        "So Chebyshev’s inequality says that at least (1-1/k^2) of data from a sample must fall within K standard deviations from the mean (or equivalently, no more than 1/k^2 of the distribution’s values can be more than k standard deviations away from the mean).\n",
        "\n",
        "Where K --> Positive real number\n",
        "\n",
        "\n",
        "If the data is not normally distributed then different amounts of data could be in one standard deviation. Chebyshev’s inequality provides a way to know what fraction of data falls within K standard deviations from the mean for any data distribution."
      ]
    },
    {
      "cell_type": "markdown",
      "metadata": {
        "id": "p5AJSWm0U4Vo"
      },
      "source": [
        "**Create a population of 1,000,000 values, I use a gamma distribution(also works with other distributions) with shape = 2 and scale = 2.**"
      ]
    },
    {
      "cell_type": "code",
      "metadata": {
        "id": "i7dWq9B1Urhz"
      },
      "source": [
        "import numpy as np\n",
        "import random\n",
        "import matplotlib.pyplot as plt\n",
        "\n",
        "#create a population with a gamma distribution\n",
        "shape, scale = 2., 2.  #mean=4, std=2*sqrt(2)\n",
        "mu = shape*scale #mean and standard deviation\n",
        "sigma = scale*np.sqrt(shape)\n",
        "\n",
        "s = np.random.gamma(shape, scale, 1000000)"
      ],
      "execution_count": 5,
      "outputs": []
    },
    {
      "cell_type": "markdown",
      "metadata": {
        "id": "0yv6He_MU9Je"
      },
      "source": [
        "Now sample 10,000 values from the population.\n"
      ]
    },
    {
      "cell_type": "code",
      "metadata": {
        "id": "UpnM5KJDU6_e"
      },
      "source": [
        "#sample 10000 values\n",
        "rs = random.choices(s, k=10000)"
      ],
      "execution_count": 6,
      "outputs": []
    },
    {
      "cell_type": "markdown",
      "metadata": {
        "id": "pB4kIEwRVB_w"
      },
      "source": [
        "Count the sample that has a distance from the expected value larger than k standard deviation and use the count to calculate the probabilities. I want to depict a trend of probabilities when k is increasing, so I use a range of k from 0.1 to 3."
      ]
    },
    {
      "cell_type": "code",
      "metadata": {
        "id": "OSlXhae9U_le"
      },
      "source": [
        "#set k\n",
        "ks = [0.1,0.5,1.0,1.5,2.0,2.5,3.0]\n",
        "\n",
        "#probability list\n",
        "probs = [] #for each k\n",
        "\n",
        "for k in ks: \n",
        "    #start count\n",
        "    c = 0\n",
        "    for i in rs:\n",
        "        # count if far from mean in k standard deviation\n",
        "        if abs(i - mu) > k * sigma :\n",
        "            c += 1\n",
        "    probs.append(c/10000)\n"
      ],
      "execution_count": 7,
      "outputs": []
    },
    {
      "cell_type": "code",
      "metadata": {
        "colab": {
          "base_uri": "https://localhost:8080/",
          "height": 742
        },
        "id": "ZrRpfVGyVE6p",
        "outputId": "0942c421-7d9e-4fc9-bd6d-f72dcee5f81d"
      },
      "source": [
        "plot = plt.figure(figsize=(20,10))\n",
        "#plot each probability\n",
        "plt.xlabel('K')\n",
        "plt.ylabel('probability')\n",
        "plt.plot(ks,probs, marker='o')\n",
        "plot.show()\n",
        "#print each probability\n",
        "print(\"Probability of a sample far from mean more than k standard deviation:\")\n",
        "for i, prob in enumerate(probs):\n",
        "    print(\"k:\" + str(ks[i]) + \", probability: \" \\\n",
        "          + str(prob)[0:5] + \\\n",
        "          \" | in theory, probability should less than: \" \\\n",
        "          + str(1/ks[i]**2)[0:5])"
      ],
      "execution_count": 8,
      "outputs": [
        {
          "output_type": "stream",
          "name": "stdout",
          "text": [
            "Probability of a sample far from mean more than k standard deviation:\n",
            "k:0.1, probability: 0.923 | in theory, probability should less than: 99.99\n",
            "k:0.5, probability: 0.614 | in theory, probability should less than: 4.0\n",
            "k:1.0, probability: 0.262 | in theory, probability should less than: 1.0\n",
            "k:1.5, probability: 0.087 | in theory, probability should less than: 0.444\n",
            "k:2.0, probability: 0.046 | in theory, probability should less than: 0.25\n",
            "k:2.5, probability: 0.027 | in theory, probability should less than: 0.16\n",
            "k:3.0, probability: 0.013 | in theory, probability should less than: 0.111\n"
          ]
        },
        {
          "output_type": "display_data",
          "data": {
            "image/png": "[encoded data removed]",
            "text/plain": [
              "<Figure size 1440x720 with 1 Axes>"
            ]
          },
          "metadata": {
            "needs_background": "light"
          }
        }
      ]
    },
    {
      "cell_type": "markdown",
      "metadata": {
        "id": "8o9Y7bHBVKqp"
      },
      "source": [
        "From the above plot and result, we can see that as the k increases, the probability is decreasing, and the probability of each k follows the inequality. Moreover, only the case that k is larger than 1 is useful. If k is less than 1, the right side of the inequality is larger than 1 which is not useful because the probability cannot be larger than 1."
      ]
    },
    {
      "cell_type": "code",
      "metadata": {
        "id": "i6uvy1K-VHSg"
      },
      "source": [
        ""
      ],
      "execution_count": null,
      "outputs": []
    }
  ]
}